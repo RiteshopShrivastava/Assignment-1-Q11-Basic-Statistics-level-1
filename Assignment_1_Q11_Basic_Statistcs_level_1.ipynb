{
  "nbformat": 4,
  "nbformat_minor": 0,
  "metadata": {
    "colab": {
      "name": "Assignment-1-Q11-Basic Statistcs level 1.ipynb",
      "provenance": [],
      "collapsed_sections": [],
      "authorship_tag": "ABX9TyPChqGRmAcGihureIxzWJ3J",
      "include_colab_link": true
    },
    "kernelspec": {
      "name": "python3",
      "display_name": "Python 3"
    },
    "language_info": {
      "name": "python"
    }
  },
  "cells": [
    {
      "cell_type": "markdown",
      "metadata": {
        "id": "view-in-github",
        "colab_type": "text"
      },
      "source": [
        "<a href=\"https://colab.research.google.com/github/RiteshopShrivastava/Assignment-1-Q11-Basic-Statistics-level-1/blob/main/Assignment_1_Q11_Basic_Statistcs_level_1.ipynb\" target=\"_parent\"><img src=\"https://colab.research.google.com/assets/colab-badge.svg\" alt=\"Open In Colab\"/></a>"
      ]
    },
    {
      "cell_type": "markdown",
      "metadata": {
        "id": "96nAs9J2laU7"
      },
      "source": [
        "Q. Suppose we want to estimate the average weight of an adult male in Mexico. We draw a random sample of 2,000 men from a population of 3,000,000 men and weigh them. We find that the average person in our sample weighs 200 pounds, and the standard deviation of the sample is 30 pounds. Calculate 94%,98%,96% confidence interval?\n",
        "\n",
        "Sample mean = 200 Sample SD = 30 n = 2000"
      ]
    },
    {
      "cell_type": "code",
      "metadata": {
        "id": "Y6xEzRbjonqC"
      },
      "source": [
        "from scipy import stats\n",
        "import numpy as np\n"
      ],
      "execution_count": 11,
      "outputs": []
    },
    {
      "cell_type": "code",
      "metadata": {
        "colab": {
          "base_uri": "https://localhost:8080/"
        },
        "id": "nLJ-zowdp4kx",
        "outputId": "e7a03e47-ff2f-44db-d7cc-d6390c18c530"
      },
      "source": [
        "# confidence interval at 94% confidence\n",
        "stats.norm.interval(0.94,loc =200, scale= (30/np.sqrt(2000)))"
      ],
      "execution_count": 19,
      "outputs": [
        {
          "output_type": "execute_result",
          "data": {
            "text/plain": [
              "(198.738325292158, 201.261674707842)"
            ]
          },
          "metadata": {
            "tags": []
          },
          "execution_count": 19
        }
      ]
    },
    {
      "cell_type": "code",
      "metadata": {
        "colab": {
          "base_uri": "https://localhost:8080/"
        },
        "id": "XnvOeb5ysjzO",
        "outputId": "366d25fc-7a5b-4aca-9fe7-27917e659e9d"
      },
      "source": [
        "# confidence interval at 96% confidence\n",
        "stats.norm.interval(0.96,loc =200, scale= (30/np.sqrt(2000)))\n"
      ],
      "execution_count": 18,
      "outputs": [
        {
          "output_type": "execute_result",
          "data": {
            "text/plain": [
              "(198.62230334813333, 201.37769665186667)"
            ]
          },
          "metadata": {
            "tags": []
          },
          "execution_count": 18
        }
      ]
    },
    {
      "cell_type": "code",
      "metadata": {
        "colab": {
          "base_uri": "https://localhost:8080/"
        },
        "id": "p7DJaaMmo_om",
        "outputId": "3cde939b-b9e6-4ad7-97ca-49273f521f06"
      },
      "source": [
        "# confidence interval at 96% confidence\n",
        "stats.norm.interval(0.98,loc =200, scale= (30/np.sqrt(2000)))"
      ],
      "execution_count": 20,
      "outputs": [
        {
          "output_type": "execute_result",
          "data": {
            "text/plain": [
              "(198.43943840429978, 201.56056159570022)"
            ]
          },
          "metadata": {
            "tags": []
          },
          "execution_count": 20
        }
      ]
    },
    {
      "cell_type": "code",
      "metadata": {
        "id": "vVruusYyo_rO"
      },
      "source": [
        ""
      ],
      "execution_count": null,
      "outputs": []
    },
    {
      "cell_type": "code",
      "metadata": {
        "id": "2f3CocQVo_tt"
      },
      "source": [
        ""
      ],
      "execution_count": null,
      "outputs": []
    },
    {
      "cell_type": "code",
      "metadata": {
        "id": "RVanGmlso_xD"
      },
      "source": [
        ""
      ],
      "execution_count": null,
      "outputs": []
    }
  ]
}